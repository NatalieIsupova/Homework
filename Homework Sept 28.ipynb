{
 "cells": [
  {
   "cell_type": "markdown",
   "metadata": {},
   "source": [
    "# Наталья Исупова"
   ]
  },
  {
   "cell_type": "markdown",
   "metadata": {},
   "source": [
    "## Задача 1"
   ]
  },
  {
   "cell_type": "markdown",
   "metadata": {},
   "source": [
    "Сформировать список элементов, которые одновременно содержатся и в A, и в B (без дубликатов)."
   ]
  },
  {
   "cell_type": "code",
   "execution_count": 2,
   "metadata": {
    "collapsed": true
   },
   "outputs": [],
   "source": [
    "a = [1, 1, 2, 3, 5, 8, 13, 21, 34, 55, 89]\n",
    "b = [1, 2, 3, 4, 5, 6, 7, 8, 9, 10, 11, 12, 13]"
   ]
  },
  {
   "cell_type": "code",
   "execution_count": 14,
   "metadata": {},
   "outputs": [
    {
     "name": "stdout",
     "output_type": "stream",
     "text": [
      "c =  [1, 2, 3, 5, 8, 13]\n"
     ]
    }
   ],
   "source": [
    "c = set([])\n",
    "for i in range (len(a)):\n",
    "    for j in range (len(b)):\n",
    "        if a[i] == b[j]:\n",
    "            c.add(a[i])\n",
    "c = list(c)\n",
    "print('c = ', c)"
   ]
  },
  {
   "cell_type": "markdown",
   "metadata": {},
   "source": [
    "## Задача 2"
   ]
  },
  {
   "cell_type": "markdown",
   "metadata": {},
   "source": [
    "Проверить, является ли палиндромом каждый элемент списка."
   ]
  },
  {
   "cell_type": "code",
   "execution_count": 15,
   "metadata": {
    "collapsed": true
   },
   "outputs": [],
   "source": [
    "Phrases = [u'Ежу хуже', u'Лев осовел', u'Зона заноз', u'Из искры возгорится пламя', u'Неуч учуен', u'Утоп в поту', \n",
    "           u'Маска как сам', u'Чем нежен меч', u'Отмывать деньги', u'Профессор кислых щей', u'Накрыться медным тазом', \n",
    "           u'Там холм лохмат', u'Он рёва наверно', u'Вид усов осудив', u'Лев с ума ламу свёл', u'Тёртый калач']"
   ]
  },
  {
   "cell_type": "code",
   "execution_count": 16,
   "metadata": {},
   "outputs": [
    {
     "name": "stdout",
     "output_type": "stream",
     "text": [
      "<class 'list'>\n"
     ]
    }
   ],
   "source": [
    "print (type(Phrases))"
   ]
  },
  {
   "cell_type": "code",
   "execution_count": 57,
   "metadata": {},
   "outputs": [
    {
     "name": "stdout",
     "output_type": "stream",
     "text": [
      "Ежу хуже  -  палиндром\n",
      "Лев осовел  -  палиндром\n",
      "Зона заноз  -  палиндром\n",
      "Из искры возгорится пламя  -  не палиндром\n",
      "Неуч учуен  -  палиндром\n",
      "Утоп в поту  -  палиндром\n",
      "Маска как сам  -  палиндром\n",
      "Чем нежен меч  -  палиндром\n",
      "Отмывать деньги  -  не палиндром\n",
      "Профессор кислых щей  -  не палиндром\n",
      "Накрыться медным тазом  -  не палиндром\n",
      "Там холм лохмат  -  палиндром\n",
      "Он рёва наверно  -  не палиндром\n",
      "Вид усов осудив  -  палиндром\n",
      "Лев с ума ламу свёл  -  не палиндром\n",
      "Тёртый калач  -  не палиндром\n"
     ]
    }
   ],
   "source": [
    "phrases1 = ''\n",
    "phrases2 = ''\n",
    "phrases3 = ''\n",
    "for i in range (len(Phrases)):\n",
    "    phrases1 = str(Phrases[i]).split(\" \")\n",
    "    phrases2 = ''.join(phrases1).lower()\n",
    "    phrases3 = phrases2[::-1]\n",
    "    if phrases2 == phrases3:\n",
    "        print (Phrases[i], ' - ', \"палиндром\")\n",
    "    else:\n",
    "        print (Phrases[i], ' - ', \"не палиндром\")"
   ]
  },
  {
   "cell_type": "markdown",
   "metadata": {},
   "source": [
    "## Задача 3"
   ]
  },
  {
   "cell_type": "markdown",
   "metadata": {},
   "source": [
    "Сформировать список из чётных элементов."
   ]
  },
  {
   "cell_type": "code",
   "execution_count": 28,
   "metadata": {
    "collapsed": true
   },
   "outputs": [],
   "source": [
    "a = [1, 4, 9, 16, 25, 36, 49, 64, 81, 100]"
   ]
  },
  {
   "cell_type": "code",
   "execution_count": 29,
   "metadata": {},
   "outputs": [
    {
     "name": "stdout",
     "output_type": "stream",
     "text": [
      "[4, 16, 36, 64, 100]\n"
     ]
    }
   ],
   "source": [
    "b = []\n",
    "for i in range (len(a)):\n",
    "    if a[i] % 2 == 0:\n",
    "        b.append(a[i])\n",
    "print(b)"
   ]
  }
 ],
 "metadata": {
  "kernelspec": {
   "display_name": "Python 3",
   "language": "python",
   "name": "python3"
  },
  "language_info": {
   "codemirror_mode": {
    "name": "ipython",
    "version": 3
   },
   "file_extension": ".py",
   "mimetype": "text/x-python",
   "name": "python",
   "nbconvert_exporter": "python",
   "pygments_lexer": "ipython3",
   "version": "3.6.1"
  }
 },
 "nbformat": 4,
 "nbformat_minor": 2
}
